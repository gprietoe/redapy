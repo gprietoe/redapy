{
 "cells": [
  {
   "cell_type": "code",
   "execution_count": 14,
   "metadata": {},
   "outputs": [
    {
     "name": "stdout",
     "output_type": "stream",
     "text": [
      "RUNDEF Job\n",
      "\n",
      "\n",
      "\n",
      "TABLE TABLE1\n",
      "    AS CROSSTABS OF Poblacio.PAREA BY Poblacio.P02SEXO\n",
      "    AREABREAK Provinci\n"
     ]
    }
   ],
   "source": [
    "\"\"\"\n",
    "MODIFICADO DE cpv2010arg.py en https://github.com/abenassi/pyredatam/blob/1480c481feb0698d54b59c3c17e52661a8c793df/pyredatam/cpv2010arg.py\n",
    "\"\"\"\n",
    "import pandas as pd\n",
    "import numpy as np\n",
    "import os\n",
    "\n",
    "from selenium import webdriver\n",
    "from selenium.webdriver.support.ui import WebDriverWait\n",
    "from selenium.webdriver.chrome.service import Service\n",
    "from selenium.webdriver.support import expected_conditions as EC\n",
    "from selenium.webdriver.common.by import By\n",
    "\n",
    "import bs4\n",
    "from bs4 import BeautifulSoup\n",
    "import requests\n",
    "\n",
    "import time\n",
    "import import_ipynb\n",
    "from Redapy_query import query_final ## el código esta en el notebook llamado Redapy_query\n",
    "import redapy\n",
    "\n",
    "area = [\"Provinci\"]\n",
    "var1 = [\"Poblacio.PAREA\"]\n",
    "var2 = [\"Poblacio.P02SEXO\"]\n",
    "selection = [\"\"]\n",
    "filter_a = \"\"\n",
    "\n",
    "query = query_final(tipo=\"crosstab\",variables1=var1,variables2=var2,area_break=area)\n",
    "print(query)\n",
    "ser = Service(r'C:\\\\Users\\\\Dieguinchi\\\\Desktop\\\\chromedriver.exe')\n",
    "BASE_URL = \"http://censos.inei.gob.pe/cgibin/RpWebEngine.exe/CmdSet?&BASE=CPV2007\"\n",
    "\n",
    "def make_query(query, url=BASE_URL): # hace consulta \"query\" a redatam a través de procesador estadístico online\n",
    "    options = webdriver.ChromeOptions()#carga configuración del webdriver\n",
    "    driver = webdriver.Chrome(options=options, service=ser)# el driver debe estar en archivos del pc. puede descargarse de https://chromedriver.chromium.org/downloads\n",
    "    driver.get(url) # abre pagina web de redatam\n",
    "    query_input = driver.find_element(By.TAG_NAME,\"textarea\")# ubica linea de comandos\n",
    "#     query_input.send_keys(query.decode(\"utf-8\", \"ignore\"))\n",
    "    query_input.send_keys(query) # escribe consulta en línea de comandos\n",
    "    submit = driver.find_element(By.NAME,\"SUBMIT\") #Busca botón \"Ejecutar\"\n",
    "    submit.click()# clickea en \"Ejecutar\" y ejecuta consulta\n",
    "    WebDriverWait(driver, 999999).until(lambda driver: len(driver.find_elements(By.TAG_NAME,'iframe')) == int(len(var1)))#espera 999 segundos o a que se muestren todas las tablas solicitadas, es decir, debe mostrar Descargar en formato Excel la misma cantidad de veces que la cantidad de variables de la solicitud\n",
    "    html = driver.page_source\n",
    "    suma = BeautifulSoup(html, \"html.parser\")\n",
    "    i=0\n",
    "    \n",
    "    while i<=(len(var1)-1):   \n",
    "        driver.switch_to.frame(i)\n",
    "        WebDriverWait(driver, 999999).until(EC.presence_of_element_located((By.XPATH, \"//*[contains(text(),'Descargar en formato Excel')]\")))\n",
    "        html = driver.page_source\n",
    "        bs = BeautifulSoup(html, \"html.parser\")\n",
    "        suma.body.append(bs)\n",
    "        driver.switch_to.default_content()\n",
    "        i+=1\n",
    "    driver.close() # cierra navegador\n",
    "    return suma # devuelve html con tabla de resultados\n",
    "\n",
    "def make_dataframe(html): # crea dataframe con resultados\n",
    "    temp_table = pd.read_html(str(html)) # lee todos los dataframes de la tabla de resultados\n",
    "    return temp_table # devuelve lista con dataframes\n",
    "\n",
    "merged = pd.concat(make_dataframe(make_query(query))) # concatena dataframes de la tabla de resultados en un solo dataframe\n",
    "# Excelwriter = pd.ExcelWriter(\"tablas_redatam2007.xlsx\",engine=\"xlsxwriter\") #exporta en excel dataframe final\n",
    "# merged.to_excel(Excelwriter)\n",
    "# Excelwriter.save()"
   ]
  },
  {
   "cell_type": "code",
   "execution_count": null,
   "metadata": {},
   "outputs": [],
   "source": []
  },
  {
   "cell_type": "code",
   "execution_count": null,
   "metadata": {},
   "outputs": [],
   "source": []
  }
 ],
 "metadata": {
  "kernelspec": {
   "display_name": "Python 3 (ipykernel)",
   "language": "python",
   "name": "python3"
  },
  "language_info": {
   "codemirror_mode": {
    "name": "ipython",
    "version": 3
   },
   "file_extension": ".py",
   "mimetype": "text/x-python",
   "name": "python",
   "nbconvert_exporter": "python",
   "pygments_lexer": "ipython3",
   "version": "3.9.13"
  }
 },
 "nbformat": 4,
 "nbformat_minor": 4
}
