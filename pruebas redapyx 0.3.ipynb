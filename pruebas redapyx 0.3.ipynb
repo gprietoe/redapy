{
 "cells": [
  {
   "cell_type": "code",
   "execution_count": null,
   "id": "b999ea61-c6a7-4121-878b-d0310963b3e1",
   "metadata": {},
   "outputs": [],
   "source": [
    "import redapyx\n",
    "import pandas as pd\n",
    "\n",
    "cps_ciudades=pd.read_excel(\"ciudades_cod_ccpp.xlsx\", converters={'cod_ccpp':str})\n",
    "cps_ciudades.rename(columns = {'cod_ccpp':'ubigeo'}, inplace = True)\n",
    "lista_cps=cps_ciudades.ubigeo.unique().tolist()\n",
    "lista_cps = [elemento[:6] for elemento in lista_cps]\n",
    "lista_cps=list(set(lista_cps))\n",
    "df=redapyx.get(table_type='frequency',var1='Hogar.CICLOH',for_query={'variables':[\"poblacion.C5P41\"],'logical_exp':[\"greater or equal than\"],'category':[\"14\"]},area_break=\"centro poblado\",pivot=True,selection=lista_cps, print_query=True)"
   ]
  },
  {
   "cell_type": "code",
   "execution_count": null,
   "id": "acda166f-36b7-412a-a313-86860993c978",
   "metadata": {},
   "outputs": [],
   "source": [
    "df"
   ]
  },
  {
   "cell_type": "code",
   "execution_count": null,
   "id": "fd5362e7-9372-493c-bf7d-aeba21a6ba2d",
   "metadata": {},
   "outputs": [],
   "source": [
    "import redapyx\n",
    "import pandas as pd\n",
    "\n",
    "lista_errores=[\"poblacion.C5P16\"]\n",
    "df_errores=[]\n",
    "df_unido=pd.DataFrame()\n",
    "df_unido_errores=[]\n",
    "\n",
    "cps_ciudades = pd.read_excel(\"ciudades_cod_ccpp.xlsx\", converters={'cod_ccpp':str})\n",
    "cps_ciudades.rename(columns = {'cod_ccpp':'ubigeo'}, inplace = True)\n",
    "lista_cps=cps_ciudades.ubigeo.unique().tolist()\n",
    "#lista_distritos = [elemento[:6] for elemento in lista_cps]\n",
    "#lista_distritos=list(set(lista_distritos))\n",
    "lista_distritos = [\"130105\",\"250107\",\"150130\"]\n",
    "\n",
    "if len(lista_errores) != 0:\n",
    "    for e in lista_errores:\n",
    "        try:\n",
    "            for x in lista_distritos:\n",
    "                try:\n",
    "                    df=redapyx.get(table_type='frequency',var1=e,for_query={'variables':[\"poblacion.C5P41\"],'logical_exp':[\"greater or equal than\"],'category':[\"14\"]},area_break=\"centro poblado\",pivot=True,selection=x, print_query=True)\n",
    "                    df=df.add_suffix(\"_\"+e)\n",
    "                    df_errores.append(df)\n",
    "                except:\n",
    "                    print(f\"Error en distrito {x}\")\n",
    "                    continue           \n",
    "            df_unido_errores = pd.concat(df_errores)\n",
    "        except:\n",
    "            print(f\"Error en variable {e}\")\n",
    "            continue \n",
    "    df_unido = pd.concat([df_unido, df_unido_errores])"
   ]
  },
  {
   "cell_type": "code",
   "execution_count": null,
   "id": "5713f11c-8fd5-46e5-bd78-8c98767e5d11",
   "metadata": {},
   "outputs": [],
   "source": [
    "df_unido.to_excel(\"BD FINAL.xlsx\")\n"
   ]
  },
  {
   "cell_type": "code",
   "execution_count": 1,
   "id": "1b3e95a8-be5e-41e6-a1a5-241ee1144d2d",
   "metadata": {},
   "outputs": [],
   "source": [
    "import redapyx\n",
    "import pandas as pd"
   ]
  },
  {
   "cell_type": "code",
   "execution_count": 11,
   "id": "cb903723",
   "metadata": {},
   "outputs": [
    {
     "name": "stdout",
     "output_type": "stream",
     "text": [
      "RUNDEF Job\n",
      "\n",
      "    UNIVERSE Poblacio.C5P41 >= 14\n",
      "\n",
      "DEFINE Poblacio.PEA AS SWITCH\n",
      "    INCASE Poblacio.C5P16 = 1\n",
      "    ASSIGN 1\n",
      "    INCASE Poblacio.C5P17 = 1\n",
      "    ASSIGN 1\n",
      "    INCASE Poblacio.C5P17 = 2\n",
      "    ASSIGN 1\n",
      "    INCASE Poblacio.C5P17 = 3\n",
      "    ASSIGN 1\n",
      "    INCASE Poblacio.C5P17 = 4\n",
      "    ASSIGN 1\n",
      "    INCASE Poblacio.C5P17 = 5\n",
      "    ASSIGN 1\n",
      "    INCASE Poblacio.C5P18 = 1\n",
      "    ASSIGN 0\n",
      "    INCASE Poblacio.C5P18 = 2\n",
      "    ASSIGN 2\n",
      "    TYPE INTEGER\n",
      "    RANGE 0-2\n",
      "\n",
      "\n",
      "TABLE TABLE1\n",
      "    AS FREQUENCY\n",
      "    AREABREAK Departam\n",
      "    OF Poblacio.C5P6\n",
      "    FOR Poblacio.PEA = 1 OR Poblacio.PEA = 0\n",
      "Scraping starts\n",
      "REDATAM webpage opened successfully\n",
      "Output table loaded successfully\n",
      "Table was scraped successfully in: 0:00:17.101992\n",
      "Table was cleaned successfully in: 0:00:00.063057\n"
     ]
    }
   ],
   "source": [
    "df=redapyx.get(table_type='frequency',var1=\"poblacion.C5P6\",area_break=\"departamento\",define_var=\"define_pea.txt\",universe_filter=\"Poblacio.C5P41 >= 14\", \n",
    "               for_query={'variables':[\"Poblacion.PEA\",\"Poblacion.PEA\"],'logical_exp':[\"equal\"],'category':[\"1\",\"0\"],'operator':[\"or\"]},pivot=True,print_query=True)"
   ]
  },
  {
   "cell_type": "code",
   "execution_count": 12,
   "id": "3c172732",
   "metadata": {},
   "outputs": [],
   "source": [
    "df.to_excel(\"BD FINAL2.xlsx\")"
   ]
  },
  {
   "cell_type": "code",
   "execution_count": null,
   "id": "cff11e68",
   "metadata": {},
   "outputs": [],
   "source": []
  }
 ],
 "metadata": {
  "kernelspec": {
   "display_name": "Python 3 (ipykernel)",
   "language": "python",
   "name": "python3"
  },
  "language_info": {
   "codemirror_mode": {
    "name": "ipython",
    "version": 3
   },
   "file_extension": ".py",
   "mimetype": "text/x-python",
   "name": "python",
   "nbconvert_exporter": "python",
   "pygments_lexer": "ipython3",
   "version": "3.9.13"
  }
 },
 "nbformat": 4,
 "nbformat_minor": 5
}
