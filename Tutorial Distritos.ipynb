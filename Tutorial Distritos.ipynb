{
 "cells": [
  {
   "cell_type": "markdown",
   "id": "b864612e-32e7-4ac5-8592-7097bdfd47c2",
   "metadata": {},
   "source": [
    "### TUTORIAL PARA EL USO DE REDAPYX A NIVEL DISTRITAL\n",
    "Redapyx es una libreria escrita en python que permite descargar datos censales del procesador estadístico de Redatam (https://censos2017.inei.gob.pe/redatam/) y transformar sus resultados en una matriz que usa el ubigeo como variable única de indexación.\n",
    "\n",
    "Para el siguiente ejemplo, vamos a usar el módulo de Redapy para explorar las características de la población que vive en viviendas alquiladas en Lima metropolitana en el año 2017. Para ello, lo primero que haremos será llamar la libreria redapy y la libreria pandas, esencial para el procesamiento de bases de datos.\n",
    "\n",
    "_OJO: Recuerda que las tablas que devuelve redapy **siempre** son dataframes de la libreria pandas_"
   ]
  },
  {
   "cell_type": "code",
   "execution_count": 1,
   "id": "29bf35ea-ecc7-4b4a-a13d-b3b137ad0f7a",
   "metadata": {},
   "outputs": [],
   "source": [
    "import redapyx\n",
    "import pandas as pd\n",
    "service_path=r'C:\\Users\\malag\\Desktop\\chromedriver.exe'"
   ]
  },
  {
   "cell_type": "markdown",
   "id": "35885a45-e2bd-47ee-b19b-67000514685e",
   "metadata": {},
   "source": [
    "### Quick start"
   ]
  },
  {
   "cell_type": "markdown",
   "id": "117c2999-c2d6-4e06-888b-c295d8741cf0",
   "metadata": {},
   "source": [
    "Antes de identificar a la población que vive en viviendas alquiladas, identificamos la condición de las viviendas censadas. Para ello usaremos la variable \"vivienda.C2P13\" la cual recoge las respuestas sobre la tenencia de la vivienda en el módulo de vivienda del censo 2017. Como nuestra consulta utiliza solo una variable, usamos el valor \"frequency\" en el parámetro denominado como \"tipo\" (tipo=\"Frequency\"). Para obtener el resultado esperado, debemos especificar además el nivel de salida de la variable y el ubigeo de interés, que en nuestro caso corresponde al ubigeo de la provincia de Lima Metropolitana (1501). De acuerdo a las indicaciones previas, los parámetros son:\n",
    "- tipo =\"Frequency\"\n",
    "- var1=\"vivienda.C2P13\" \n",
    "- area_break=\"distrito\"\n",
    "- selection=\"1501\""
   ]
  },
  {
   "cell_type": "code",
   "execution_count": 2,
   "id": "1dbe6ce2-1e3f-43a4-9e74-9f6453dbe6a3",
   "metadata": {},
   "outputs": [
    {
     "name": "stdout",
     "output_type": "stream",
     "text": [
      "RUNDEF Job\n",
      "    SELECTION INLINE, Provinci 1501\n",
      "\n",
      "\n",
      "TABLE TABLE1\n",
      "    AS FREQUENCY\n",
      "    AREABREAK Distrito\n",
      "    OF Poblacio.C5P2\n",
      "    WEIGHT Poblacio.FACTORPOND\n",
      "  Scraping starts\n",
      "  REDATAM webpage opened successfully\n",
      "  Output table loaded successfully\n",
      "  Table was scraped successfully in: 0:00:05.257159\n",
      "  Table was cleaned successfully in: 0:00:00\n",
      "  Excel file generated successfully\n"
     ]
    }
   ],
   "source": [
    "redapyx.get(service_path=service_path, tipo='Frequency',var1=\"poblacion.C5P2\",area_break=\"distrito\",selection=\"1501\",print_query=True, output=\"Excel\",factor_exp=\"Poblacio.FACTORPOND\")"
   ]
  },
  {
   "cell_type": "code",
   "execution_count": null,
   "id": "2a7e2cf1-e7c0-4b4a-9cd5-ac870369cd29",
   "metadata": {},
   "outputs": [],
   "source": [
    "redapyx.get(service_path=service_path, tipo='',var1=\"vivienda.C2P13\",area_break=\"distrito\",selection=\"1501\")"
   ]
  },
  {
   "cell_type": "markdown",
   "id": "83401a4b-9f55-44b1-a121-1b717f6040b3",
   "metadata": {},
   "source": [
    "El resultado nos muestra que la consulta se ejecutó en cerca de 7 segundos y devolvió una base de datos similar a la que genera una consulta desde la web de REDATAM: una base de datos con una tabla por **UBIGEO**. Este formato se puede apreciar mejor al filtral un determinado número de filas, en este caso filtraremos las filas que van desde 17 hasta la 31. Para ello usaremos el comando _iloc_ de la libreria pandas.\n",
    "\n",
    "_Nota que hemos nombrado el resultado con el nombre de \"df\", que es una convención para definir a un dataframe_"
   ]
  },
  {
   "cell_type": "code",
   "execution_count": null,
   "id": "74ee2846-c0dc-49f8-9b18-08768e5712c5",
   "metadata": {},
   "outputs": [],
   "source": [
    "df=redapyx.get(service_path=service_path, tipo='Frequency',var1=\"vivienda.C2P13\",area_break=\"distrito\",selection=\"1501\", pivot=True)\n",
    "df.iloc[17:31]"
   ]
  },
  {
   "cell_type": "markdown",
   "id": "66763499-3d43-47ce-8b52-8e61239fc539",
   "metadata": {
    "jp-MarkdownHeadingCollapsed": true,
    "tags": []
   },
   "source": [
    "Este tipo de estructura de datos, si bien resulta de fácil lectura, suele ser poco útil para el análisis comparado ya que no permite organizar fácilmente los datos en una matriz donde cada columna corresponda a una varible y cada fila a un caso como, por ejemplo, uno de los distritos de Lima Metropolitana. Por lo tanto, se requiere transformar esta base de datos compuesta por tablas individuales con información por UBIEGO en una matriz de datos de 2x2 que facilite su análisis y visualización. \n",
    "\n",
    "**Redapy** permite transformar estas tablas usando el submódulo **frequency**, el cual recoge los datos de cada tabla y agrupa las respuestas por ubigeo"
   ]
  },
  {
   "cell_type": "code",
   "execution_count": null,
   "id": "e434f1f5-4e99-4aa9-91ac-8050e88dc144",
   "metadata": {},
   "outputs": [],
   "source": [
    "redapyx.frequency(df)"
   ]
  },
  {
   "cell_type": "markdown",
   "id": "71b4e046-cbf4-4a54-b2e2-6ab63c93b605",
   "metadata": {},
   "source": [
    "Esta función, también cuenta con un parámetro que pivotea directamente los datos en una matriz de 2x2, la cual toma la variable de ubigeo como identificador único (index) y las categorias de la variable seleccionada como columnas de matriz."
   ]
  },
  {
   "cell_type": "code",
   "execution_count": null,
   "id": "1868e4c3-960e-4dd2-8c85-a496b45a995e",
   "metadata": {},
   "outputs": [],
   "source": [
    "redapyx.frequency(df, pivot=True)"
   ]
  },
  {
   "cell_type": "markdown",
   "id": "421f4548-c395-45a0-80d8-7d531fbc2c7a",
   "metadata": {},
   "source": [
    "De esta forma, con solo **2 líneas de código** y en menos de **5 minutos** obtenemos todas las categorias de la variable en una matriz de 2x2, donde cada fila corresponde a un distrito de Lima Metropolitana y cada columna a una de las categorías de la variable de tenencia de la vivienda. Este resultado puede ser usado para graficar las frecuencias de datos o para visualizar la distribución espacial de la variable en un programa GIS. Para guardar la matriz resultante puedes usar el módulo de pandas _to_excel()_ para grabar el resultado en un archivo de excel.\n",
    "\n",
    "El resultado final del código para realizar **la consulta, transformar los resultados y guardarlos** sería el siguiente:"
   ]
  },
  {
   "cell_type": "code",
   "execution_count": null,
   "id": "08a5e654-e4a0-4446-9433-6cc8f1e13d75",
   "metadata": {},
   "outputs": [],
   "source": [
    "df=redapyx.get(service_path=service_path,tipo='Frequency',var1=\"vivienda.C2P13\",area_break=\"distrito\",selection=\"1501\")\n",
    "\n",
    "## Guardamos el resultado en un archivo excel\n",
    "df.to_excel(\"tenencia de la vivienda_2017_sinpivot.xlsx\")"
   ]
  },
  {
   "cell_type": "code",
   "execution_count": null,
   "id": "11f6c829-6f90-423c-92b1-f5603c0016d9",
   "metadata": {},
   "outputs": [],
   "source": [
    "df=redapyx.get(service_path=service_path,tipo='Frequency',var1=\"vivienda.C2P13\",area_break=\"distrito\",selection=\"1501\", pivot=True)\n",
    "\n",
    "## Guardamos el resultado en un archivo excel\n",
    "df.to_excel(\"tenencia de la vivienda_2017_conpivot.xlsx\")"
   ]
  },
  {
   "cell_type": "markdown",
   "id": "63dce9a3-0f39-42bb-8f2e-1334b9e7f451",
   "metadata": {},
   "source": [
    "### Exploración de los resultados\n",
    "\n",
    "Si bien la tabla anterior ya puede ser utilizada para hacer operaciones en excel o Qgis, nos interesa realizar algunos cálculos adicionales usando la libreria pandas.\n",
    "Iniciaremos identificando el porcentaje de viviendas en alquiler por distrito, para ello lo primero que haremos será calcular la suma de viviendas y luego el porcentaje de viviendas alquiladas."
   ]
  },
  {
   "cell_type": "code",
   "execution_count": null,
   "id": "7e9edaf5-3664-4f57-abda-d4c43367f34e",
   "metadata": {},
   "outputs": [],
   "source": [
    "## creamos una variable con la suma total de casos por ubigeo\n",
    "df1['viviendas_total']=df1.sum(axis=1) \n",
    "## creamos una variable con el porcentaje de la variable vivienda alquilada con respecto al total de viviendas\n",
    "df1['alquiler_p']=((df1.Alquilada/df1.viviendas_total)*100).round(1)\n",
    "## Ahora mostramos las 5 primeras filas con la condición de que estén ordenadas de mayor a menor\n",
    "df1.sort_values(\"alquiler_p\",ascending=False).head()"
   ]
  },
  {
   "cell_type": "markdown",
   "id": "f721155d-7aa2-4393-b7df-0eed2ed4d6a6",
   "metadata": {},
   "source": [
    "La tabla anterior muestra que en los ditritos de la Victoria (150115), Santa Anita (150137), Breña (150105), San Luis (150134) y Surquillo (150141), se encuentran el mayor porcentaje de viviendas alquiladas en el año 2017, respectivamente. Por otra parte, que la vivienda se encuentre alquilada no quiere decir que la mayoría de hogares o personas del distrito vivian en viviendas alquiladas. Por esta razón calculamos la misma información pero a nivel de persona censada. Usaremos nuevamente el módulo de redapyx, pero agregaremos una variable a la consulta: el sexo del encuestado (C5P2). Esto se logra cambiando el parámetro _tipo_ por \"Crosstab\" que nos permite realizar consultas para 2 variables (var1=\"vivienda.C2P13\" y var2=\"poblacion.C5P2\").\n",
    "\n",
    "_Nota: Además pasamos el parámetro mensajes =False para reducir el número de msj durante la ejecución de la función y solo mantener el tiempo de extracción de datos desde REDATAM_"
   ]
  },
  {
   "cell_type": "code",
   "execution_count": null,
   "id": "63908d80-5245-42f2-a324-be976e9e6ade",
   "metadata": {},
   "outputs": [],
   "source": [
    "df=redapyx.get(service_path=service_path,tipo='Crosstab',var1=\"vivienda.C2P13\", var2=\"poblacion.C5P2\",area_break=\"distrito\",selection=\"1501\")\n",
    "df.head(10)"
   ]
  },
  {
   "cell_type": "code",
   "execution_count": null,
   "id": "8332422e-6165-4c79-90d4-95fc30556797",
   "metadata": {},
   "outputs": [],
   "source": [
    "df=redapyx.get(service_path=service_path,tipo='Crosstab',var1=\"vivienda.C2P13\", var2=\"poblacion.C5P2\",area_break=\"distrito\",selection=\"1501\", pivot=True)\n",
    "df.head(10)"
   ]
  },
  {
   "cell_type": "code",
   "execution_count": null,
   "id": "863e10c6-9069-40f4-bb07-5a793fc58fa8",
   "metadata": {},
   "outputs": [],
   "source": [
    "df=redapyx.get(service_path=service_path,var1=\"vivienda.C2P13\", var2=\"poblacion.C5P2\",area_break=\"distrito\",selection=\"1501\")\n",
    "df.head(10)"
   ]
  },
  {
   "cell_type": "markdown",
   "id": "4474e827-a7a5-4534-8ed8-4d89d773684a",
   "metadata": {},
   "source": [
    "### Centros poblados\n",
    "Desde el 2017 el INEI pone a disposición del público la información del CPV 2017 a nivel de centros poblados y manzadas. Esta información puede ser consultada desde la web alterna de Redatam destinada este fin (https://censos2017.inei.gob.pe/bininei/RpWebStats.exe/CmdSet?BASE=CPV2017&ITEM=PROGRED&lang=esp).\n",
    "\n",
    "De forma similar a como ocurre con la información a nivel de distrito y provincia, los datos son devueltos por el sistema en forma de tablas individuales por Ubigeo (revisar el tutorial sobre distritos acá: link). Así, a pesar del avance que representa el acceso a este nivel de desagregación para el análisis de distintos fenómenos sociales y demográficos, su uso está restringido a la capacidad que el usuario tenga para procesar la información. Asimismo, la información georreferenciada de ccpp y manzanas es distribuida a través de un WMS, formato de tipo imagen que impide la vinculación de la información con los datos censales de caracter vectorial.\n",
    "\n",
    "A pesar de estas limitaciones, Redapyx resulta en una herramienta potente para reducir la brecha en la capacidad de análisis de los datos. A continuación, se presentan dos posibles usos de ambas bases de datos de centros poblados y manzanas haciendo uso de redapyx e información de acceso público"
   ]
  },
  {
   "cell_type": "markdown",
   "id": "d3e28e8b-54fe-4579-bdcb-ef79f637e4ef",
   "metadata": {},
   "source": [
    "Ahora podemos ver que tenemos el total de hombres y mujeres por el ubigeo del distrito y el tipo de tenencia de la vivienda. A continuación, haremos algunos cambios a la tabla para lograr obtener el dato deseado.\n",
    "\n",
    "_OJO: Si quisieramos tener una tabla multicolumna, solo sería necesario pasar el parámetro pivot=True en el submodulo cross_table: redapyx.cross_table(df2, pivot=True)_"
   ]
  },
  {
   "cell_type": "code",
   "execution_count": null,
   "id": "91bff52a-6ca6-4553-a79d-c6a0e721011d",
   "metadata": {},
   "outputs": [],
   "source": [
    "## Nos quedamos con la variable total y pivoteamos el resultado\n",
    "df2=df2.reset_index().query('columna==\"Total\"').pivot(index=\"ubigeo\",columns=\"fila\",values=\"freq\")\n",
    "## sumamos todas las variables para tener el total de población por tipo de tenencia\n",
    "df2['pob_total']=df2.sum(axis=1) \n",
    "## creamos una variable con el porcentaje de la variable vivienda alquilada con respecto al total de viviendas\n",
    "df2['alquiler_pob_p']=((df2.Alquilada/df2.pob_total)*100).round(1)\n",
    "## Ahora mostramos las 5 primeras filas con la condición de que estén ordenadas de mayor a menor\n",
    "df2.sort_values(\"alquiler_pob_p\",ascending=False).head(9)"
   ]
  },
  {
   "cell_type": "markdown",
   "id": "49792350-a893-4160-9257-ba81174f56b6",
   "metadata": {},
   "source": [
    "En relación a la población en vivienda alquiladas, el distrito de Breña es el segundo distrito con más población en viviendas alquiladas, ello a pesar de ser el tercero con más viviendas con tenencia en situación de alquiler. Algo similar ocurre con el distrito de Lince (150116) el cual a pesar de ser el 7mo distrito con mayor porcentaje de viviendas en alquiler, es el cuarto con más población habitandolas.\n",
    "\n",
    "Esta información no lleva a la siguiente pregunta, ¿cuál es el ratio entre población y viviendas alquiladas? Para resolver esta pregunta, procederemos a unir ambos _Dataframes_ (viviendas por tipo de tenencia y población por tipo de tenencia de la vivienda) usando la función _join_ de pandas y calcular nuestro indicador.\n",
    "\n",
    "_**Este ejercicio resulta mucho más sencillo, gracias a que la función de limpieza de Redapy toma siempre al ubigeo como variable clave para indexar la información**, otra manera de hacer esta operación sería con la función de pandas **merge**_"
   ]
  },
  {
   "cell_type": "code",
   "execution_count": null,
   "id": "0d5d1d67-d330-442e-824f-5ccaa8566335",
   "metadata": {},
   "outputs": [],
   "source": [
    "## unimos ambas BD usando la función join que utiliza los index para hacer el merge\n",
    "df3=(df1[[\"Alquilada\",\"viviendas_total\",\"alquiler_p\"]].\n",
    "     join(df2.rename({\"Alquilada\":\"Alquilada_pob\"},axis=1)[[\"Alquilada_pob\",\"pob_total\",\"alquiler_pob_p\"]]))\n",
    "\n",
    "## Calculamos el ratio\n",
    "df3[\"ratio\"]=(df3.Alquilada_pob/df3.Alquilada).round(2)\n",
    "df3.sort_values(\"ratio\",ascending=False).head()"
   ]
  },
  {
   "cell_type": "markdown",
   "id": "4cab83e5-a5b3-48a9-bf90-f373c074adff",
   "metadata": {},
   "source": [
    "Luego de cruzar ambos _dataframes_, observamos que el ratio más alto de personas por vivienda alquilada se encuentra en el distrito de Villa el Salvador con casi 4 personas por vivienda alquilada, ello a pesar de que el porcentaje de población en vivienda alquiladas es de solo 12%. Por su parte, el distrito de Miraflores tiene el ratio más bajo de personas por vivienda alquilada con alrededor de 2 personas por vivienda con este tipo de tenencia, además de ser el noveno distrito con más población en viviendas alquiladas con 31% de sus vecinos alquilando una vivienda en el distrito"
   ]
  },
  {
   "cell_type": "code",
   "execution_count": null,
   "id": "55bf8609-6195-43f3-8ffc-8bbd3b9ccbd0",
   "metadata": {},
   "outputs": [],
   "source": [
    "df3.sort_values(\"ratio\",ascending=False).tail()"
   ]
  },
  {
   "cell_type": "markdown",
   "id": "62989c1f-ff85-4f0e-b414-fe9430be6676",
   "metadata": {},
   "source": [
    "### Visualización en forma de mapa\n",
    "Ahora que tenemos nuestros indicadores podemos visualizarlos en forma de mapa usando los límites distritales del INEI. Para ello usaremos la libreria **_geopandas_**, la cual permite trabajar con datos vectoriales. Además, usaremos los shps de distritos 2017 descargados del siguiente enlace: https://ide.inei.gob.pe/#capas\n",
    "\n",
    "También usaremos la librería **_matplotlib_**, la cual permite crear visualizaciones complejas\n",
    "\n",
    "_Este mismo ejercicio de visualización se puede realizar con otros programas de GIS como, por ejemplo, QGIS_"
   ]
  },
  {
   "cell_type": "code",
   "execution_count": null,
   "id": "1bbd7fcf-57ea-4f1e-a88f-c67b5af9009a",
   "metadata": {},
   "outputs": [],
   "source": [
    "import geopandas as gpd\n",
    "import matplotlib.pyplot as plt ## libreria para la visualización de data"
   ]
  },
  {
   "cell_type": "code",
   "execution_count": null,
   "id": "fa33d171-7e2d-4b0e-89fe-ebbc92aed3b6",
   "metadata": {},
   "outputs": [],
   "source": [
    "## Hacemos el merge entre la BD espacial y nuestro dataframe con los indicadores que queremos graficar\n",
    "dis17=gpd.read_file('Bases originales\\\\Límites nacionales\\\\Distrito.gpkg') ## en este caso nuestra BD espacial está guardada como gpkg y contiene un único layer\n",
    "dis17=dis17.set_index('ubigeo').merge(df3, right_index=True, left_index=True, how='inner', validate='1:1')\n",
    "\n",
    "## Usaremos la libreía Matplotlib para graficar el resultado\n",
    "fig,ax=plt.subplots(1,2, figsize=(12,9))\n",
    "\n",
    "dis17.plot(\"alquiler_pob_p\",ax=ax[0], legend=True)\n",
    "dis17.plot(\"ratio\",ax=ax[1], legend=True, cmap=\"YlGnBu\")\n",
    "\n",
    "ax[0].set_title(\"Población en viviendas alquiladas\\n en Lima Metropolitana %\") \n",
    "ax[1].set_title(\"Ratio entre el total de personas en viviendas\\n alquiladas y el total de viviendas alquiladas\")"
   ]
  },
  {
   "cell_type": "markdown",
   "id": "dc8ce531-e809-4f08-802f-210b09308b0b",
   "metadata": {},
   "source": [
    "### Filtros para consultas en REDATAM"
   ]
  },
  {
   "cell_type": "markdown",
   "id": "701f3eae-5793-450e-ac66-f2dcabcd2093",
   "metadata": {},
   "source": [
    "Ahora que conocemos el total de personas que viven en viviendas alquiladas, imaginemos que queremos conocer su permanencia en el distrito en los últimos 5 años y en qué distrito vivia antes en caso se haya mudado en los últimos 5 años. Para este ejemplo tomaremos como referencia la respuesta del jefe del hogar sobre el lugar donde vivía hace 5 años. Para realizar la consulta multivariable en vez de solicitar un reporte de 2 o más variables usaremos del parámetro _for_query_, el cual permite construir un filtro que combina  una o más variables y sus respectivos valores. El detalle de los subparametros es el siguiente:\n",
    "\n",
    "- ***variables***: lista la variable o variables que se usarán en el filtro.\n",
    "- ***category***: lista el valor de la categoría que se usará para filtrar cada variable. ___Nota que la categoría siempre es un valor númerico, para saber el valor de la respuesta puedes revisar la cédula censal___\n",
    "- ***logical_exp***: lista la expresión lógica que se usará para filtrar la variable (equal, greater than, less than, etc)\n",
    "- ***operator***: es el operador que se usará para filtrar las variables, puede ser \"and\" u \"or\"\n",
    "\n",
    "Como no requerimos de más de una varible usamos la consulta del tipo \"frequency\" para solicitar a Redatam la información sobre el lugar donde vivía el jefe del hogar hace 5 años (\"poblacion.C5P6PV\"). Para garantizar que la consulta devuelva solo información de las viviendas alquiladas (\"vivienda.C2P13\") y del jefe del hogar (\"poblacion.C5P1\"), construimos nuestro filtro para ambas variables. En este caso tanto la condición de alquiler de la vivienda como la condición de jefe del hogar corresponde a los valores \"1 ('category':[\"1\", \"1\"]). Finalmente, especificamos en el **_operator_** que ambas condiciones se cumplan, para ello usaremos el valor ['and'] "
   ]
  },
  {
   "cell_type": "code",
   "execution_count": null,
   "id": "63523fc6-f01d-4d5f-ab18-79a05463cff6",
   "metadata": {},
   "outputs": [],
   "source": [
    "df4=redapyx.query_2017(tipo='Frequency',var1=\"poblacion.C5P6PV\",area_break=\"distrito\",selection=\"1501\",\n",
    "                        for_query={'variables':[\"vivienda.C2P13\",\"poblacion.C5P1\"],\n",
    "                                   'category':[\"1\",\"1\"],\n",
    "                                   'logical_exp':[\"equal\"],\n",
    "                                   'operator':['and']}, mensajes=False)\n",
    "\n",
    "df4=redapyx.frequency(df4)\n",
    "df4.head(5)"
   ]
  },
  {
   "cell_type": "markdown",
   "id": "d575f192-b535-4dd7-b01d-c5d81579d8c8",
   "metadata": {},
   "source": [
    "En un aproximado de 15 segundos obtenemos la tabla con la frecuencia de los lugares donde vivian hace 5 años los jefes del hogar que vivie en viviendas alquiladas. Para identificar aquellos que viven fuera de Lima Metropolitana, recodificamos la variable _resp_ diferenciando entre los que no vivian hace 5 años en LM (\"no_LM\") y los que sí vivian en LM ('si_LM') durante este perido de tiempo."
   ]
  },
  {
   "cell_type": "code",
   "execution_count": null,
   "id": "79589d03-0cb8-488d-a1c2-a972fae3a1df",
   "metadata": {},
   "outputs": [],
   "source": [
    "#Recodificamos la variable resp en una nueva variable llamada resp2.\n",
    "df4['resp2']=\"no_LM\"\n",
    "df4.loc[df4['resp'].str.contains('Continente'), 'resp2'] = \"otro_continente\"\n",
    "df4.loc[df4['resp'].str.contains(\"provincia de Lima\"), 'resp2'] = \"si_LM\"\n",
    "#agrupamos la variable recodicada por ubigeo sumamdo las fecuencias. luego pivoteamos la BD para tener una matriz de 2x2 con el ubigeo como index\n",
    "df4=df4.groupby([\"ubigeo\",\"resp2\"]).sum(numeric_only=True)[['fre']].reset_index().pivot(index=\"ubigeo\",columns=\"resp2\",values=\"fre\")\n",
    "\n",
    "## sumamos todas las variables para tener el total de los jefes del hogar por lugar donde vivian en los últimos 5 años\n",
    "df4['jh_total']=df4.sum(axis=1) \n",
    "## creamos una variable con el porcentaje de los jefes del hogar que vivian fuera de la provincia de Lima metropolitana\n",
    "df4['jf_fuera_LM']=((df4.no_LM/df4.jh_total)*100).round(1)\n",
    "df4['jf_fuera_LM_otro_con']=(((df4.no_LM+df4.otro_continente)/df4.jh_total)*100).round(1)\n",
    "df4.sort_values(\"jf_fuera_LM_otro_con\", ascending=False).head(6)"
   ]
  },
  {
   "cell_type": "markdown",
   "id": "27bd44da-5304-4e0f-b7fd-8f1adf4b173e",
   "metadata": {},
   "source": [
    "Ahora podemos saber que el mayor procentaje de jefes del hogar en viviendas alquiladas que no vivian hace 5 años en la provincia de Lima metropolitan se encuentra en el distrito de Miraflores (150122) con 28% del total de jefes del hogar en el distrito. Llama la atención que de este total, 21% sea de jefes del hogar que vivían en el extranjero. Por su parte, el distrito donde se encuentra el menor número de jefes del hogar que no vivian en Lima Metropolitana hace 5 años es el distrito del Rimac, con solo 9% seguido por el distrito de Chaclacayo con 10% del total de jefes del hogar en vivienda alquiladas.\n",
    "\n",
    "Ahora que sabemos que cerca del 84% de los jefes del hogar en vivienda alquiladas vivían en la provincia de Lima en los último 5 años, revisemos si estos datos son similares a nivel interdistrital. Para ello usaremos la pregunta sobre el distrito en que vivia el jefe del hogar hace 5 años (\"poblacion.C5P6DI\"). De forma similar al ejemplo anterior, pasaremos un filtro que considere la variable sobre la tenencia de la vivienda ('vivienda.C2P13') y la relación con el jefe del hogar ('poblacion.C5P1')."
   ]
  },
  {
   "cell_type": "code",
   "execution_count": null,
   "id": "d0a03c59-f36b-4ad2-b6f4-b7e86a0cd66c",
   "metadata": {},
   "outputs": [],
   "source": [
    "df5=redapyx.query_2017(tipo='Frequency',var1=\"poblacion.C5P6DI\",area_break=\"distrito\",selection=\"1501\",\n",
    "                      for_query={'variables':[\"vivienda.C2P13\",\"poblacion.C5P1\"],\n",
    "                                 'category':[\"1\",\"1\"],\n",
    "                                 'logical_exp':[\"equal\"],\n",
    "                                 'operator':['and']})\n",
    "\n",
    "df5=redapyx.frequency(df5)\n",
    "df5.head()"
   ]
  },
  {
   "cell_type": "markdown",
   "id": "38870762-b262-41b6-9a88-54e31996eca7",
   "metadata": {},
   "source": [
    "Procedemos a recodificar la variable resp para separar los lugares de procedencia de acuerdo con el departamento, provincia y distrito. Luego, usaremos la BD espacial de distritos 2017 para agregarle el ubigeo a cada uno de nuestros lugares de procedencia. Una vez recodificado el ubigeo de procedencia ('ubigeo_pro') creamos una nueva variable que identifique el total de jefes del hogar que no vivian en el mismo distrito de LM en los últimos 5 años."
   ]
  },
  {
   "cell_type": "code",
   "execution_count": null,
   "id": "8f78078c-bb0c-4c34-b18d-9ed28a3ce799",
   "metadata": {},
   "outputs": [],
   "source": [
    "# Creamos tres nuevas variables con los datos del departamento, provincia y distrito de  procedencia del jefe del hogar. \n",
    "df5[\"resp\"]=df5[\"resp\"].str.upper()\n",
    "df5[\"dep\"]=df5.resp.str.split(\",\", expand=True)[0]\n",
    "df5[\"prov\"]=df5.resp.str.split(\",\", expand=True)[1].str.strip()\n",
    "df5[\"dis\"]=df5.resp.str.split(\":\", expand=True)[1].str.strip().replace([\"Á\",\"É\",\"Í\",\"Ó\",\"Ú\"],[\"A\",\"E\",\"I\",\"O\",\"U\"], regex=True)\n",
    "\n",
    "## agregamos el ubigeo a los lugares de procendecia. Para ello haremos un loop usando los nombres de los ditritos de la BD espacial de distritos 2017- INEI\n",
    "df5[\"ubigeo_pro\"]=\"\"\n",
    "for ubigeo, dis_name in dis17[\"nombdist\"].items():\n",
    "    df5.loc[(df5.dis==dis_name) & (df5.dep==\"LIMA\") & (df5.prov==\"LIMA\"),\"ubigeo_pro\"]= ubigeo\n",
    "\n",
    "## Mantenemos únicamente las variables que necesitamos\n",
    "df5=df5[['resp', 'fre','ubigeo_pro', 'ubigeo']].copy()\n",
    "\n",
    "## Creamos una nueva variable con el resultado de la comparación entre ubigeos.\n",
    "df5[\"resp2\"]=\"otro_distrito_fuera_LM\"\n",
    "df5.loc[((df5['ubigeo_pro']==df5['ubigeo']) & (df5.ubigeo_pro!=\"\")) | (df5['resp']==(\"LIMA, LIMA, DISTRITO NO ESPECIFICADO\")) , 'resp2'] = \"mismo_distrito_LM\"\n",
    "df5.loc[(df5['ubigeo_pro']!=df5['ubigeo']) & (df5.ubigeo_pro!=\"\"), 'resp2'] = \"otro_distrito_LM\"\n",
    "df5.loc[(df5['resp'].str.contains('PAÍS'))|(df5['resp'].str.contains('CONTINENTE'))|(df5['resp']==\"9999\"), 'resp2'] = \"otro_pais\"\n"
   ]
  },
  {
   "cell_type": "code",
   "execution_count": null,
   "id": "958abe58-3d32-4588-b32c-14490eb10fab",
   "metadata": {},
   "outputs": [],
   "source": [
    "## Agrupamos la nueva variable por ubigeo de destino (el ubigeo donde se ubica el jefe del hogar), sumamos los resultados de la nueva variable ('resp2') y pivoteamos la BD\n",
    "df6=df5.groupby([\"ubigeo\",\"resp2\"]).sum(numeric_only=True)[['fre']].reset_index().pivot(index=\"ubigeo\",columns=\"resp2\",values=\"fre\")\n",
    "## sumamos todas las variables para tener el total de población por tipo de tenencia\n",
    "df6['jh_total']=df6.sum(axis=1) \n",
    "## creamos una variable con el porcentaje de la variable vivienda alquilada con respecto al total de viviendas\n",
    "df6['jh_otro_dis_LM_p']=((df6.otro_distrito_LM/df6.jh_total)*100).round(1)\n",
    "df6.sort_values(\"jh_otro_dis_LM_p\", ascending=False).head(5)"
   ]
  },
  {
   "cell_type": "markdown",
   "id": "3298bacc-18b6-4c02-8278-1ba31561a25a",
   "metadata": {},
   "source": [
    "La mayoria de los jefes del hogar que hace 5 años vivian en un distrito distito al distrito donde fueron censados se encuentra en el distrito de San Borja y Magdalena con 30.2% y 29.9%, respectivamente. Podemos observar que a diferencia de lo que sucede con el distrito de Santa Rosa (150139), en estos dos el porcentaje de jefes del hogar en viviendas alquiladas que vivian fuera de Lima Metropolitana es de alrededor de 15% lo que los situa por debajo de la media de los distritos de LM (17%).\n",
    "\n",
    "Estos datos pueden apreciarse mejor si son visualizados en espacialmente. Para ello, volvemos a usar la data spacial de distritos 2017 del INEI. Se revela cierta concentración en los distritos del sur de Lima de hogares que no vivian en la provincia de Lima hace 5 años. Mientras que cambio interdistrital de los hogares que viven en viviendas alquiladas al interior de LM se estaría concentrando en los distritos de Lima centro como San Borja, Magdalena, Puedo Libre, San Miguel y Barranco."
   ]
  },
  {
   "cell_type": "code",
   "execution_count": null,
   "id": "89ebbe54-0562-459f-a017-0a69f49b254d",
   "metadata": {},
   "outputs": [],
   "source": [
    "df7=df4[['jf_fuera_LM_otro_con']].join(df6[['jh_otro_dis_LM_p']].sort_index())\n",
    "vis2=dis17.merge(df7, right_index=True, left_index=True, how='inner', validate='1:1')\n",
    "\n",
    "## Usaremos la libreía Matplotlib para graficar el resultado\n",
    "fig,ax=plt.subplots(1,2, figsize=(12,9))\n",
    "\n",
    "vis2.plot(\"jf_fuera_LM_otro_con\",ax=ax[0], legend=True, cmap=\"PuBu\")\n",
    "vis2.plot(\"jh_otro_dis_LM_p\",ax=ax[1], legend=True, cmap=\"BuGn\")\n",
    "\n",
    "ax[0].set_title(\"Jefes del hogar en viviendas alquiladas\\n que hace 5 años vivian fuera de\\n Lima Metropolitana %\") \n",
    "ax[1].set_title(\"Jefes del hogar en viviendas alquiladas\\n que hace 5 años vivian en otro distrito\\n de Lima Metropolitana %\")"
   ]
  },
  {
   "cell_type": "markdown",
   "id": "7540b107-e619-4a7d-93fc-2817430b8d89",
   "metadata": {},
   "source": [
    "### Análisis de las redes de procedencia y destino de los hogares que alquilan una vivienda en el 2017"
   ]
  },
  {
   "cell_type": "markdown",
   "id": "5f649ba9-9fbe-4454-b0fa-4944b464f4e9",
   "metadata": {},
   "source": [
    "Finalmente, revisamos de forma general lo 5 principales nodos de atracción de hogares que alquilan viviendas en el 2017. Para ello, haremos uso de la libreria _networkx_ la cual permite convertir la Base de datos en un estructura de redes. Para una mejor visualización, solo se considera para el análisis los 4 primeros distritos de procedencia para cada uno de nuestros 5 principales destinos seleccionados."
   ]
  },
  {
   "cell_type": "code",
   "execution_count": null,
   "id": "ffa15014-e76e-4ceb-9282-b5ca16fdaedb",
   "metadata": {},
   "outputs": [],
   "source": [
    "# libraries\n",
    "import numpy as np\n",
    "import networkx as nx\n",
    "\n",
    "def keep_first2(df):\n",
    "    df=df.sort_values('fre', ascending=False).iloc[0:4]\n",
    "    return df\n",
    "\n",
    "df8=(df5.\n",
    "     groupby([\"ubigeo\",\"ubigeo_pro\",\"resp2\"]).\n",
    "     sum(numeric_only=True)[['fre']].\n",
    "     reset_index('resp2').\n",
    "     query('resp2==\"otro_distrito_LM\"').\n",
    "     groupby(level=0).\n",
    "     apply(keep_first2).\n",
    "     reset_index(level=0, drop=True).\n",
    "     reset_index()\n",
    "    )\n",
    "\n",
    "v1=df8.query('ubigeo==\"150130\" | ubigeo==\"150120\" | ubigeo==\"150139\" | ubigeo==\"150138\"|ubigeo==\"150131\"').copy()\n",
    "v2=df8.query('ubigeo==\"150130\" |ubigeo==\"150131\"').copy()\n",
    "\n",
    "# # Build your graph\n",
    "G1=nx.from_pandas_edgelist(v1, 'ubigeo_pro', 'ubigeo', create_using=nx.DiGraph())\n",
    "G2=nx.from_pandas_edgelist(v2, 'ubigeo_pro', 'ubigeo', create_using=nx.DiGraph())\n",
    "\n",
    "# Plot it\n",
    "f, ax=plt.subplots(1,2, figsize=(12,9))\n",
    "nx.draw(G1, with_labels=True, arrows=True, node_size=250, font_size=8, width=2.7,node_color='skyblue', alpha=0.8, edge_color=v1['fre'],ax=ax[0],edge_cmap=plt.cm.copper_r)\n",
    "nx.draw(G2, with_labels=True, arrows=True, node_size=250, font_size=8, width=2.7,node_color='skyblue', alpha=0.8, edge_color=v2['fre'],ax=ax[1],edge_cmap=plt.cm.copper_r)\n",
    "\n",
    "plt.show()"
   ]
  },
  {
   "cell_type": "markdown",
   "id": "c12b84af-18f5-4530-a793-2a4c2a3a4846",
   "metadata": {},
   "source": [
    "Del gráfico anterior se puede observar que los 3 de los 5 distritos de mayor cantidad de hogares en viviendas alquiladas se consolidan como claros nodos de atracción. A su vez, 4 cuatro de los 5 distritos son lugares de recepción de hogares que hace 5 años vivian en viviendas alquiladas en el distrito de Miraflores, donde destaca el ditrito de San Isidro, Santa Maria del Mar y Magdalena del Mar. Finalmente, llama la atención la dinámica entre San Borja (150130), San Isidro (150131), Santiago de Surco (150140) y La Molina (150114), cuyos distritos forman un subsistema de nodos y flujos."
   ]
  }
 ],
 "metadata": {
  "kernelspec": {
   "display_name": "Python 3 (ipykernel)",
   "language": "python",
   "name": "python3"
  },
  "language_info": {
   "codemirror_mode": {
    "name": "ipython",
    "version": 3
   },
   "file_extension": ".py",
   "mimetype": "text/x-python",
   "name": "python",
   "nbconvert_exporter": "python",
   "pygments_lexer": "ipython3",
   "version": "3.8.13"
  }
 },
 "nbformat": 4,
 "nbformat_minor": 5
}
