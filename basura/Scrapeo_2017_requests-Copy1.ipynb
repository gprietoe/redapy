{
 "cells": [
  {
   "cell_type": "code",
   "execution_count": 1,
   "id": "79891c1e",
   "metadata": {},
   "outputs": [
    {
     "name": "stdout",
     "output_type": "stream",
     "text": [
      "importing Jupyter notebook from Redapy_query_requests.ipynb\n",
      "https://censos2017.inei.gob.pe/bininei/RpWebStats.exe/CmdSet?MAIN=WebServerMain.inl&BASE=CPV2017DI&LANG=esp&CODIGO=XXUSUARIOXX&ITEM=PROGRED&MODE=RUN&CMDSET=RUNDEF%20Job%0A%0A%0A%0ATABLE%20TABLE1%0A%20%20%20%20AS%20CROSSTABS%20OF%20Poblacio.C5P12%20BY%20Vivienda.C2P4%0A%20%20%20%20AREABREAK%20Provinci&Submit=Ejecutar\n",
      "https://censos2017.inei.gob.pe/bininei/RpWebStats.exe/CmdSet?MAIN=WebServerMain.inl&BASE=CPV2017DI&LANG=esp&CODIGO=XXUSUARIOXX&ITEM=PROGRED&MODE=RUN&CMDSET=RUNDEF%20Job%0A%0A%0A%0ATABLE%20TABLE1%0A%20%20%20%20AS%20CROSSTABS%20OF%20Poblacio.C5P41%20BY%20Poblacio.C5P82%0A%20%20%20%20AREABREAK%20Provinci&Submit=Ejecutar\n",
      "<!DOCTYPE html PUBLIC \"-//W3C//DTD XHTML 1.0 Strict//EN\" \"http://www.w3.org/TR/xhtml1/DTD/xhtml1-strict.dtd\">\n",
      "<html xmlns=\"http://www.w3.org/1999/xhtml\"><head>\n",
      "<meta content=\"text/html; charset=utf-8\" http-equiv=\"Content-Type\"/>\n",
      "<title>500 - Internal server error.</title>\n",
      "<style type=\"text/css\">\n",
      "<!--\n",
      "body{margin:0;font-size:.7em;font-family:Verdana, Arial, Helvetica, sans-serif;background:#EEEEEE;}\n",
      "fieldset{padding:0 15px 10px 15px;} \n",
      "h1{font-size:2.4em;margin:0;color:#FFF;}\n",
      "h2{font-size:1.7em;margin:0;color:#CC0000;} \n",
      "h3{font-size:1.2em;margin:10px 0 0 0;color:#000000;} \n",
      "#header{width:96%;margin:0 0 0 0;padding:6px 2% 6px 2%;font-family:\"trebuchet MS\", Verdana, sans-serif;color:#FFF;\n",
      "background-color:#555555;}\n",
      "#content{margin:0 0 0 2%;position:relative;}\n",
      ".content-container{background:#FFF;width:96%;margin-top:8px;padding:10px;position:relative;}\n",
      "-->\n",
      "</style>\n",
      "</head>\n",
      "<body>\n",
      "<div id=\"header\"><h1>Server Error</h1></div>\n",
      "<div id=\"content\">\n",
      " <div class=\"content-container\"><fieldset>\n",
      "  <h2>500 - Internal server error.</h2>\n",
      "  <h3>There is a problem with the resource you are looking for, and it cannot be displayed.</h3>\n",
      " </fieldset></div>\n",
      "</div>\n",
      "\n",
      "\n",
      "</body></html>\n"
     ]
    },
    {
     "ename": "TypeError",
     "evalue": "'NoneType' object is not subscriptable",
     "output_type": "error",
     "traceback": [
      "\u001b[1;31m---------------------------------------------------------------------------\u001b[0m",
      "\u001b[1;31mTypeError\u001b[0m                                 Traceback (most recent call last)",
      "Cell \u001b[1;32mIn [1], line 34\u001b[0m\n\u001b[0;32m     31\u001b[0m     temp_table \u001b[38;5;241m=\u001b[39m pd\u001b[38;5;241m.\u001b[39mread_html(\u001b[38;5;28mstr\u001b[39m(html)) \u001b[38;5;66;03m# lee todos los dataframes de la tabla de resultados\u001b[39;00m\n\u001b[0;32m     32\u001b[0m     \u001b[38;5;28;01mreturn\u001b[39;00m temp_table \u001b[38;5;66;03m# devuelve lista con dataframes\u001b[39;00m\n\u001b[1;32m---> 34\u001b[0m merged \u001b[38;5;241m=\u001b[39m pd\u001b[38;5;241m.\u001b[39mconcat(make_dataframe(\u001b[43mmake_query\u001b[49m\u001b[43m(\u001b[49m\u001b[43mquery\u001b[49m\u001b[43m)\u001b[49m))\n",
      "Cell \u001b[1;32mIn [1], line 22\u001b[0m, in \u001b[0;36mmake_query\u001b[1;34m(query)\u001b[0m\n\u001b[0;32m     20\u001b[0m soup \u001b[38;5;241m=\u001b[39m BeautifulSoup(response\u001b[38;5;241m.\u001b[39mtext, \u001b[38;5;124m\"\u001b[39m\u001b[38;5;124mhtml5lib\u001b[39m\u001b[38;5;124m\"\u001b[39m)\n\u001b[0;32m     21\u001b[0m \u001b[38;5;28mprint\u001b[39m(soup)\n\u001b[1;32m---> 22\u001b[0m iframe \u001b[38;5;241m=\u001b[39m \u001b[43msoup\u001b[49m\u001b[38;5;241;43m.\u001b[39;49m\u001b[43mfind\u001b[49m\u001b[43m(\u001b[49m\u001b[38;5;124;43m'\u001b[39;49m\u001b[38;5;124;43miframe\u001b[39;49m\u001b[38;5;124;43m'\u001b[39;49m\u001b[43m,\u001b[49m\u001b[43m{\u001b[49m\u001b[38;5;124;43m'\u001b[39;49m\u001b[38;5;124;43mname\u001b[39;49m\u001b[38;5;124;43m'\u001b[39;49m\u001b[43m:\u001b[49m\u001b[38;5;124;43m'\u001b[39;49m\u001b[38;5;124;43mgrid\u001b[39;49m\u001b[38;5;124;43m'\u001b[39;49m\u001b[43m}\u001b[49m\u001b[43m)\u001b[49m\u001b[43m[\u001b[49m\u001b[38;5;124;43m'\u001b[39;49m\u001b[38;5;124;43msrc\u001b[39;49m\u001b[38;5;124;43m'\u001b[39;49m\u001b[43m]\u001b[49m\n\u001b[0;32m     23\u001b[0m \u001b[38;5;28mprint\u001b[39m(iframe)\n\u001b[0;32m     24\u001b[0m html_iframe \u001b[38;5;241m=\u001b[39m requests\u001b[38;5;241m.\u001b[39mget(iframe)\n",
      "\u001b[1;31mTypeError\u001b[0m: 'NoneType' object is not subscriptable"
     ]
    }
   ],
   "source": [
    "import requests\n",
    "import import_ipynb\n",
    "import bs4\n",
    "from bs4 import BeautifulSoup\n",
    "from requests_html import HTMLSession\n",
    "from Redapy_query_requests import query_final ## el código esta en el notebook llamado Redapy_query\n",
    "import pandas as pd\n",
    "\n",
    "area = [\"Provinci\"]\n",
    "var1 = [\"Poblacio.C5P41\"]\n",
    "var2 = [\"Poblacio.C5P82\"]\n",
    "# selection = [\"Provinci 1501\"]\n",
    "filter_a = \"Distrito\"\n",
    "\n",
    "query = query_final(tipo=\"crosstab\",variables1=var1,variables2=var2,area_break=area)\n",
    "\n",
    "def make_query(query): # hace consulta \"query\" a redatam a través de procesador estadístico online\n",
    "    print(query)\n",
    "    response = requests.get(query)\n",
    "    soup = BeautifulSoup(response.text, \"html5lib\")\n",
    "    print(soup)\n",
    "    iframe = soup.find('iframe',{'name':'grid'})['src']\n",
    "    print(iframe)\n",
    "    html_iframe = requests.get(iframe)\n",
    "    html = BeautifulSoup(html_iframe.text,\"html5lib\")\n",
    "    print(html)\n",
    "    return html\n",
    "\n",
    "def make_dataframe(html): # crea dataframe con resultados\n",
    "    print(str(html))\n",
    "    temp_table = pd.read_html(str(html)) # lee todos los dataframes de la tabla de resultados\n",
    "    return temp_table # devuelve lista con dataframes\n",
    "\n",
    "merged = pd.concat(make_dataframe(make_query(query)))"
   ]
  },
  {
   "cell_type": "code",
   "execution_count": null,
   "id": "cfdfd6c5",
   "metadata": {},
   "outputs": [],
   "source": []
  }
 ],
 "metadata": {
  "kernelspec": {
   "display_name": "Python 3 (ipykernel)",
   "language": "python",
   "name": "python3"
  },
  "language_info": {
   "codemirror_mode": {
    "name": "ipython",
    "version": 3
   },
   "file_extension": ".py",
   "mimetype": "text/x-python",
   "name": "python",
   "nbconvert_exporter": "python",
   "pygments_lexer": "ipython3",
   "version": "3.9.13"
  }
 },
 "nbformat": 4,
 "nbformat_minor": 5
}
