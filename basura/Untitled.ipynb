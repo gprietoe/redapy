{
 "cells": [
  {
   "cell_type": "code",
   "execution_count": 1,
   "id": "6f939e03-2429-4ba9-9ab3-061a941448b7",
   "metadata": {},
   "outputs": [],
   "source": [
    "from PyQt5 import QtWidgets\n",
    "from itertools import product\n",
    "\n",
    "app = QtWidgets.QApplication([])\n",
    "\n",
    "# wordlist for testing\n",
    "wordlist = [''.join(combo) for combo in product('abc', repeat = 4)]\n",
    "\n",
    "combo = QtWidgets.QComboBox()\n",
    "combo.addItems(wordlist)\n",
    "\n",
    "# completers only work for editable combo boxes. QComboBox.NoInsert prevents insertion of the search text\n",
    "combo.setEditable(True)\n",
    "combo.setInsertPolicy(QtWidgets.QComboBox.NoInsert)\n",
    "\n",
    "# change completion mode of the default completer from InlineCompletion to PopupCompletion\n",
    "combo.completer().setCompletionMode(QtWidgets.QCompleter.PopupCompletion)\n",
    "\n",
    "combo.show()\n",
    "app.exec()\n",
    "del app"
   ]
  },
  {
   "cell_type": "code",
   "execution_count": null,
   "id": "6dd06f2a-9dd6-45aa-8aa0-3f6d98425b3d",
   "metadata": {},
   "outputs": [],
   "source": []
  }
 ],
 "metadata": {
  "kernelspec": {
   "display_name": "Python 3 (ipykernel)",
   "language": "python",
   "name": "python3"
  },
  "language_info": {
   "codemirror_mode": {
    "name": "ipython",
    "version": 3
   },
   "file_extension": ".py",
   "mimetype": "text/x-python",
   "name": "python",
   "nbconvert_exporter": "python",
   "pygments_lexer": "ipython3",
   "version": "3.9.13"
  }
 },
 "nbformat": 4,
 "nbformat_minor": 5
}
