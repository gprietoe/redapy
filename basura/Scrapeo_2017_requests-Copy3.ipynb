{
 "cells": [
  {
   "cell_type": "code",
   "execution_count": 2,
   "id": "79891c1e",
   "metadata": {},
   "outputs": [
    {
     "name": "stdout",
     "output_type": "stream",
     "text": [
      "https://censos2017.inei.gob.pe/bininei/RpWebStats.exe/CmdSet?MAIN=WebServerMain.inl&BASE=CPV2017DI&LANG=esp&CODIGO=XXUSUARIOXX&ITEM=PROGRED&MODE=RUN&CMDSET=RUNDEF%20Job%0A%0A%0A%0ATABLE%20TABLE1%0A%20%20%20%20AS%20CROSSTABS%20OF%20Poblacio.C5P41%20BY%20Poblacio.C5P82%0A%20%20%20%20AREABREAK%20Provinci&Submit=Ejecutar\n"
     ]
    }
   ],
   "source": [
    "import requests\n",
    "import import_ipynb\n",
    "import bs4\n",
    "import time\n",
    "from bs4 import BeautifulSoup\n",
    "from requests_html import HTMLSession\n",
    "from Redapy_query_requests import query_final ## el código esta en el notebook llamado Redapy_query\n",
    "import pandas as pd\n",
    "import datetime\n",
    "import requests_random_user_agent\n",
    "\n",
    "begin_time = datetime.datetime.now()\n",
    "\n",
    "area = [\"Provinci\"]\n",
    "var1 = [\"Poblacio.C5P41\"]\n",
    "var2 = [\"Poblacio.C5P82\"]\n",
    "selection = [\"Provinci 1501\"]\n",
    "filter_a = \"Distrito\"\n",
    "hdr = {\n",
    "#     'Accept': '*/*',\n",
    "#     'Accept-Encoding': 'gzip, deflate, br',\n",
    "#     'Accept-Language': 'en-US,en;q=0.9,es;q=0.8',\n",
    "#     'Connection': 'keep-alive',\n",
    "#     'Content-Length': '242',\n",
    "#     'Content-Type': 'application/x-www-form-urlencoded; charset=UTF-8',\n",
    "    'Host': 'censos2017.inei.gob.pe',\n",
    "    'Origin': 'https://censos2017.inei.gob.pe',\n",
    "    'Referer': 'https://censos2017.inei.gob.pe/bininei/RpWebStats.exe/CmdSet?BASE=CPV2017DI&ITEM=PROGRED&lang=esp',\n",
    "#     'sec-ch-ua': '\"Chromium\";v=\"104\", \" Not A;Brand\";v=\"99\", \"Google Chrome\";v=\"104\"',\n",
    "#     'sec-ch-ua-mobile': '?0',\n",
    "#     'sec-ch-ua-platform': '\"Windows\"',\n",
    "#     'Sec-Fetch-Dest': 'empty',\n",
    "#     'Sec-Fetch-Mode': 'cors',\n",
    "#     'Sec-Fetch-Site': 'same-origin',\n",
    "#     'User-Agent': 'Mozilla/5.0 (Windows NT 10.0; Win64; x64) AppleWebKit/537.36 (KHTML, like Gecko) Chrome/104.0.0.0 Safari/537.36',\n",
    "#     'X-Requested-With': 'XMLHttpRequest'\n",
    "}\n",
    "query = query_final(tipo=\"crosstab\",variables1=var1,variables2=var2,area_break=area)\n",
    "print(query)\n",
    "# def make_query(query): # hace consulta \"query\" a redatam a través de procesador estadístico online\n",
    "#     print(query)\n",
    "#     session = requests.Session()\n",
    "# #     session.headers.update(hdr)\n",
    "#     session.headers.update({'User-Agent':session.headers['User-Agent']})\n",
    "#     response = session.get(query)\n",
    "#     soup = BeautifulSoup(response.text, \"html.parser\")\n",
    "#     print(str(soup))\n",
    "#     iframe = soup.find('iframe',{'name':'grid'})['src']\n",
    "#     print(str(iframe))\n",
    "#     session = requests.Session()\n",
    "#     session.headers.update({'User-Agent':session.headers['User-Agent']})\n",
    "#     html_iframe = session.get(str(iframe))\n",
    "#     html = BeautifulSoup(html_iframe.text,\"html.parser\")\n",
    "#     print(str(html))\n",
    "#     return html\n",
    "\n",
    "# def make_dataframe(html): # crea dataframe con resultados\n",
    "#     print(str(html))\n",
    "#     temp_table = pd.read_html(str(html)) # lee todos los dataframes de la tabla de resultados\n",
    "#     return temp_table # devuelve lista con dataframes\n",
    "\n",
    "# merged = pd.concat(make_dataframe(make_query(query)))\n",
    "\n",
    "# Excelwriter = pd.ExcelWriter(\"tablas_redatam2017_cruzada.xlsx\",engine=\"xlsxwriter\") #exporta en excel dataframe final\n",
    "# merged.to_excel(Excelwriter)\n",
    "# Excelwriter.save()\n",
    "\n",
    "# print(datetime.datetime.now() - begin_time)"
   ]
  },
  {
   "cell_type": "code",
   "execution_count": null,
   "id": "cfdfd6c5",
   "metadata": {},
   "outputs": [],
   "source": []
  },
  {
   "cell_type": "code",
   "execution_count": null,
   "id": "ef9d2364",
   "metadata": {},
   "outputs": [],
   "source": []
  }
 ],
 "metadata": {
  "kernelspec": {
   "display_name": "Python 3 (ipykernel)",
   "language": "python",
   "name": "python3"
  },
  "language_info": {
   "codemirror_mode": {
    "name": "ipython",
    "version": 3
   },
   "file_extension": ".py",
   "mimetype": "text/x-python",
   "name": "python",
   "nbconvert_exporter": "python",
   "pygments_lexer": "ipython3",
   "version": "3.9.13"
  }
 },
 "nbformat": 4,
 "nbformat_minor": 5
}
