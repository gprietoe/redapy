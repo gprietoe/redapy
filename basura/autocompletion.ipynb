{
 "cells": [
  {
   "cell_type": "code",
   "execution_count": 1,
   "id": "641375dc-2780-40ea-8f47-2b2a81ab8123",
   "metadata": {},
   "outputs": [
    {
     "ename": "SystemExit",
     "evalue": "0",
     "output_type": "error",
     "traceback": [
      "An exception has occurred, use %tb to see the full traceback.\n",
      "\u001b[1;31mSystemExit\u001b[0m\u001b[1;31m:\u001b[0m 0\n"
     ]
    },
    {
     "name": "stderr",
     "output_type": "stream",
     "text": [
      "C:\\Users\\Dieguinchi\\anaconda3\\envs\\redapy_env\\lib\\site-packages\\IPython\\core\\interactiveshell.py:3386: UserWarning: To exit: use 'exit', 'quit', or Ctrl-D.\n",
      "  warn(\"To exit: use 'exit', 'quit', or Ctrl-D.\", stacklevel=1)\n"
     ]
    }
   ],
   "source": [
    "import sys, os\n",
    "from PyQt5 import QtWidgets, QtCore\n",
    "from PyQt5.QtWidgets import QWidget, QComboBox, QHBoxLayout, QApplication, QCompleter, QCheckBox, QLabel\n",
    "\n",
    "def completion(word_list, widget, i=True):\n",
    "    \"\"\" Autocompletion of sender and subject \"\"\"\n",
    "    word_set = set(word_list)\n",
    "    completer = QCompleter(word_set)\n",
    "    if i:\n",
    "        completer.setCaseSensitivity(QtCore.Qt.CaseInsensitive)\n",
    "    else:\n",
    "        completer.setCaseSensitivity(QtCore.Qt.CaseSensitive)\n",
    "    widget.setCompleter(completer)\n",
    "\n",
    "class Autocomplete(QComboBox):\n",
    "    def __init__(self, items, parent=None, i=False, allow_duplicates=True):\n",
    "        super(Autocomplete, self).__init__(parent)\n",
    "        self.items = items\n",
    "        self.insensitivity = i\n",
    "        self.allowDuplicates = allow_duplicates\n",
    "        self.init()\n",
    "\n",
    "    def init(self):\n",
    "        self.setEditable(True)\n",
    "        self.setDuplicatesEnabled(self.allowDuplicates)\n",
    "        self.addItems(self.items)\n",
    "        self.setAutocompletion(self.items, i=self.insensitivity)\n",
    "\n",
    "    def setAutocompletion(self, items, i):\n",
    "        completion(items, self, i)\n",
    "\n",
    "class Widget(QWidget):\n",
    "    \"\"\"docstring for Widget\"\"\"\n",
    "    def __init__(self, items, parent=None, fixed=True, allow_duplicates=True):\n",
    "        super(Widget, self).__init__()\n",
    "        self.items = items\n",
    "        self.checkbox = QCheckBox()\n",
    "        self.labelItemCounter = QLabel()\n",
    "        self.autocomplete = Autocomplete(self.items, \n",
    "            parent=self, i=True, allow_duplicates=allow_duplicates\n",
    "        )\n",
    "        if fixed:\n",
    "            self.autocomplete.setInsertPolicy(QComboBox.NoInsert)\t\t\n",
    "        self.layout = QHBoxLayout()\n",
    "        self.setLayout(self.layout)\n",
    "        self.layout.addWidget(self.checkbox)\n",
    "        self.layout.addWidget(self.autocomplete)\n",
    "        self.layout.addWidget(self.labelItemCounter)\n",
    "        self.labelItemCounter.setText(f'{self.autocomplete.count()}')\n",
    "        self.checkbox.stateChanged.connect(lambda: self.tuneAutocompletion())\n",
    "\n",
    "    def tuneAutocompletion(self):\n",
    "        if self.checkbox.isChecked():\n",
    "            self.autocomplete.setAutocompletion(self.items, True)\n",
    "        else:\n",
    "            self.autocomplete.setAutocompletion(self.items, False)\n",
    "\n",
    "    def currentText(self):\n",
    "        return self.autocomplete.currentText()\n",
    "\n",
    "    def currentIndex(self):\t\t\n",
    "        return self.autocomplete.currentIndex()\n",
    "    \n",
    "    \n",
    "if __name__ == \"__main__\":\n",
    "    app = QApplication(sys.argv)\n",
    "    w = QWidget()\n",
    "    l = ['Captain America', 'Hulk', 'Iron Man', 'hulk', 'Iron Man ', 'Captain America']\n",
    "    cb = Widget(l, parent=w)    \n",
    "    layout = QHBoxLayout()\n",
    "    layout.addWidget(cb)\n",
    "    w.setLayout(layout)\n",
    "    w.show()\n",
    "    sys.exit(app.exec_())"
   ]
  },
  {
   "cell_type": "code",
   "execution_count": null,
   "id": "06c858ee-c843-49f2-b002-d892f3b86712",
   "metadata": {},
   "outputs": [],
   "source": []
  }
 ],
 "metadata": {
  "kernelspec": {
   "display_name": "Python 3 (ipykernel)",
   "language": "python",
   "name": "python3"
  },
  "language_info": {
   "codemirror_mode": {
    "name": "ipython",
    "version": 3
   },
   "file_extension": ".py",
   "mimetype": "text/x-python",
   "name": "python",
   "nbconvert_exporter": "python",
   "pygments_lexer": "ipython3",
   "version": "3.9.13"
  }
 },
 "nbformat": 4,
 "nbformat_minor": 5
}
