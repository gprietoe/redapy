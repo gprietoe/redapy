{
 "cells": [
  {
   "cell_type": "code",
   "execution_count": 6,
   "id": "06f67457-1222-4e3f-beec-a3d7c4ed3b76",
   "metadata": {},
   "outputs": [
    {
     "name": "stdout",
     "output_type": "stream",
     "text": [
      "  Scrapeo iniciado\n"
     ]
    }
   ],
   "source": [
    "import warnings\n",
    "\n",
    "\n",
    "def customshowwarning(message, category=None, filename=None, lineno=None, file=None, line=None):\n",
    "    print(\" \", message)\n",
    "\n",
    "warnings.showwarning = customshowwarning(message='Scrapeo iniciado')"
   ]
  },
  {
   "cell_type": "code",
   "execution_count": 9,
   "id": "0936f0c5-11a2-4d95-96c7-554dee186dc2",
   "metadata": {},
   "outputs": [
    {
     "name": "stdout",
     "output_type": "stream",
     "text": [
      "Tabla scrapeada con éxito en:1\n"
     ]
    }
   ],
   "source": [
    "tiempo=1 \n",
    "message='Tabla scrapeada con éxito en:'+ str(tiempo)\n",
    "print(message)"
   ]
  },
  {
   "cell_type": "code",
   "execution_count": null,
   "id": "9b2e4d6a-c21a-4781-96e5-99c948b82fa2",
   "metadata": {},
   "outputs": [],
   "source": []
  }
 ],
 "metadata": {
  "kernelspec": {
   "display_name": "Python 3 (ipykernel)",
   "language": "python",
   "name": "python3"
  },
  "language_info": {
   "codemirror_mode": {
    "name": "ipython",
    "version": 3
   },
   "file_extension": ".py",
   "mimetype": "text/x-python",
   "name": "python",
   "nbconvert_exporter": "python",
   "pygments_lexer": "ipython3",
   "version": "3.8.13"
  }
 },
 "nbformat": 4,
 "nbformat_minor": 5
}
