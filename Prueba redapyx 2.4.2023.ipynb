{
 "cells": [
  {
   "cell_type": "code",
   "execution_count": 1,
   "id": "bd58a3c2-6689-4787-ac6d-dd30b79e4c7c",
   "metadata": {},
   "outputs": [],
   "source": [
    "import redapy"
   ]
  },
  {
   "cell_type": "code",
   "execution_count": 1,
   "id": "391d7af8-02db-4129-896f-c97ee147367b",
   "metadata": {},
   "outputs": [
    {
     "name": "stdout",
     "output_type": "stream",
     "text": [
      "Tabla scrapeada con éxito en: 0:00:05.310406\n"
     ]
    }
   ],
   "source": [
    "var1 = \"hogar.C3P213\"\n",
    "area_d = \"Departamento\"\n",
    "ser_url = r'C:\\\\Users\\\\malag\\\\Downloads\\\\chromedriver.exe'\n",
    "\n",
    "query=redapy.query_final(tipo='Frequency',\n",
    "                         censo='CPV2017_D',\n",
    "                         var1=var1,\n",
    "                         area_break=area_d)\n",
    "\n",
    "df = redapy.make_query_2017(query,ser_url,mensajes=False) # PRUEBA SIN MENSAJES. CAMBIAR A TRUE O BORRAR ARGUMENTO PARA QUE SE MUESTREN LOS MENSAJES"
   ]
  },
  {
   "cell_type": "code",
   "execution_count": null,
   "id": "fbb55b24-9a7c-430b-b34e-51ca2fb3f20a",
   "metadata": {},
   "outputs": [],
   "source": [
    "# PRUEBA CENSO 2017 MANZANAS\n",
    "var1 = \"Hogar.C3P213\"\n",
    "area_d = \"Manzana\"\n",
    "selection = \"150140\" #Distrito SURCO\n",
    "ser_url = r'C:\\\\Users\\\\malag\\\\Downloads\\\\chromedriver.exe'\n",
    "\n",
    "query=redapy.query_final(tipo='Frequency',\n",
    "                         censo='CPV2017_M',\n",
    "                         var1=var1,\n",
    "                         area_break=area_d,selection=selection)\n",
    "\n",
    "df = redapy.make_query_2017(query,ser_url)"
   ]
  },
  {
   "cell_type": "code",
   "execution_count": null,
   "id": "cfb1a11c-838b-4e0b-91f3-068b2e582786",
   "metadata": {},
   "outputs": [],
   "source": []
  }
 ],
 "metadata": {
  "kernelspec": {
   "display_name": "Python 3 (ipykernel)",
   "language": "python",
   "name": "python3"
  },
  "language_info": {
   "codemirror_mode": {
    "name": "ipython",
    "version": 3
   },
   "file_extension": ".py",
   "mimetype": "text/x-python",
   "name": "python",
   "nbconvert_exporter": "python",
   "pygments_lexer": "ipython3",
   "version": "3.8.13"
  }
 },
 "nbformat": 4,
 "nbformat_minor": 5
}
