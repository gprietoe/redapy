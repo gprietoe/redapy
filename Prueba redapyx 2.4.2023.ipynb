{
 "cells": [
  {
   "cell_type": "code",
   "execution_count": null,
   "id": "bd58a3c2-6689-4787-ac6d-dd30b79e4c7c",
   "metadata": {},
   "outputs": [],
   "source": [
    "import redapy"
   ]
  },
  {
   "cell_type": "code",
   "execution_count": 1,
   "id": "391d7af8-02db-4129-896f-c97ee147367b",
   "metadata": {},
   "outputs": [
    {
     "name": "stdout",
     "output_type": "stream",
     "text": [
      "Tabla scrapeada con éxito en: 0:00:05.310406\n"
     ]
    }
   ],
   "source": [
    "# PRUEBA CENSO 2017 DISTRITOS\n",
    "var1 = [\"Hogar.C3P213\"]\n",
    "area_d = [\"Departamento\"]\n",
    "ser_url = r'C:\\\\Users\\\\malag\\\\Downloads\\\\chromedriver.exe'\n",
    "\n",
    "query=redapy.query_final(tipo='Frequency',\n",
    "                         censo='CPV2017_D',\n",
    "                         var1=var1,\n",
    "                         area_break=area_d)\n",
    "\n",
    "df = redapy.make_query_2017(query,ser_url,mensajes=False) # PRUEBA SIN MENSAJES. CAMBIAR A TRUE O BORRAR ARGUMENTO PARA QUE SE MUESTREN LOS MENSAJES"
   ]
  },
  {
   "cell_type": "code",
   "execution_count": null,
   "id": "fbb55b24-9a7c-430b-b34e-51ca2fb3f20a",
   "metadata": {},
   "outputs": [],
   "source": [
    "# PRUEBA CENSO 2017 MANZANAS\n",
    "var1 = [\"Hogar.C3P213\"]\n",
    "area_d = [\"Manzana\"]\n",
    "selection = [\"Distrito 150140\"] #Distrito SURCO\n",
    "ser_url = r'C:\\\\Users\\\\malag\\\\Downloads\\\\chromedriver.exe'\n",
    "\n",
    "query=redapy.query_final(tipo='Frequency',\n",
    "                         censo='CPV2017_M',\n",
    "                         var1=var1,\n",
    "                         area_break=area_d,selection=selection)\n",
    "\n",
    "df = redapy.make_query_2017(query,ser_url)"
   ]
  },
  {
   "cell_type": "code",
   "execution_count": 29,
   "id": "943f2503-54d2-45bd-8c94-455354f5f9af",
   "metadata": {},
   "outputs": [
    {
     "name": "stdout",
     "output_type": "stream",
     "text": [
      "Scrapeo iniciado\n",
      "Se cargó página REDATAM con éxito\n",
      "La tabla cargó completamente\n",
      "Tabla scrapeada con éxito en: 0:00:06.700076\n"
     ]
    }
   ],
   "source": [
    "## Energia con la cocina es gas natural según sexo del jefe del hogar\n",
    "query=redapy.query_final(tipo=\"Crosstab\", var1=\"Hogar.C3P13\", var2=\"Hogar.sexjef\",\n",
    "                         area_break=\"distrito\", selection=\"provincia 1501\")\n",
    "\n",
    "df = redapy.make_query_2017(query).pipe(redapy.cross_table)\n"
   ]
  },
  {
   "cell_type": "code",
   "execution_count": 30,
   "id": "a8aac135-fc59-4b4a-9777-f84968279fa0",
   "metadata": {},
   "outputs": [
    {
     "data": {
      "text/html": [
       "<div>\n",
       "<style scoped>\n",
       "    .dataframe tbody tr th:only-of-type {\n",
       "        vertical-align: middle;\n",
       "    }\n",
       "\n",
       "    .dataframe tbody tr th {\n",
       "        vertical-align: top;\n",
       "    }\n",
       "\n",
       "    .dataframe thead th {\n",
       "        text-align: right;\n",
       "    }\n",
       "</style>\n",
       "<table border=\"1\" class=\"dataframe\">\n",
       "  <thead>\n",
       "    <tr style=\"text-align: right;\">\n",
       "      <th></th>\n",
       "      <th></th>\n",
       "      <th></th>\n",
       "      <th>freq</th>\n",
       "    </tr>\n",
       "    <tr>\n",
       "      <th>ubigeo</th>\n",
       "      <th>fila</th>\n",
       "      <th>columna</th>\n",
       "      <th></th>\n",
       "    </tr>\n",
       "  </thead>\n",
       "  <tbody>\n",
       "    <tr>\n",
       "      <th rowspan=\"5\" valign=\"top\">150101</th>\n",
       "      <th rowspan=\"3\" valign=\"top\">No usa gas natural</th>\n",
       "      <th>Jefe hombre</th>\n",
       "      <td>43446</td>\n",
       "    </tr>\n",
       "    <tr>\n",
       "      <th>Jefe mujer</th>\n",
       "      <td>27901</td>\n",
       "    </tr>\n",
       "    <tr>\n",
       "      <th>Total</th>\n",
       "      <td>71347</td>\n",
       "    </tr>\n",
       "    <tr>\n",
       "      <th rowspan=\"2\" valign=\"top\">Sí usa gas natural</th>\n",
       "      <th>Jefe hombre</th>\n",
       "      <td>4671</td>\n",
       "    </tr>\n",
       "    <tr>\n",
       "      <th>Jefe mujer</th>\n",
       "      <td>2647</td>\n",
       "    </tr>\n",
       "  </tbody>\n",
       "</table>\n",
       "</div>"
      ],
      "text/plain": [
       "                                        freq\n",
       "ubigeo fila               columna           \n",
       "150101 No usa gas natural Jefe hombre  43446\n",
       "                          Jefe mujer   27901\n",
       "                          Total        71347\n",
       "       Sí usa gas natural Jefe hombre   4671\n",
       "                          Jefe mujer    2647"
      ]
     },
     "execution_count": 30,
     "metadata": {},
     "output_type": "execute_result"
    }
   ],
   "source": [
    "df.head()"
   ]
  }
 ],
 "metadata": {
  "kernelspec": {
   "display_name": "Python 3 (ipykernel)",
   "language": "python",
   "name": "python3"
  },
  "language_info": {
   "codemirror_mode": {
    "name": "ipython",
    "version": 3
   },
   "file_extension": ".py",
   "mimetype": "text/x-python",
   "name": "python",
   "nbconvert_exporter": "python",
   "pygments_lexer": "ipython3",
   "version": "3.8.13"
  }
 },
 "nbformat": 4,
 "nbformat_minor": 5
}
