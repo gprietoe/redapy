{
 "cells": [
  {
   "cell_type": "code",
   "execution_count": 1,
   "metadata": {},
   "outputs": [
    {
     "name": "stdout",
     "output_type": "stream",
     "text": [
      "importing Jupyter notebook from Redapy_query.ipynb\n",
      "RUNDEF Job\n",
      "\n",
      "\n",
      "\n",
      "TABLE TABLE1\n",
      "    AS CROSSTABS OF Poblacio.C5P12 BY Vivienda.C2P4\n",
      "    AREABREAK Provinci\n"
     ]
    }
   ],
   "source": [
    "\"\"\"\n",
    "MODIFICADO DE cpv2010arg.py en https://github.com/abenassi/pyredatam/blob/1480c481feb0698d54b59c3c17e52661a8c793df/pyredatam/cpv2010arg.py\n",
    "\"\"\"\n",
    "\n",
    "import pandas as pd\n",
    "import numpy as np\n",
    "import os\n",
    "\n",
    "from selenium import webdriver\n",
    "from selenium.webdriver.support.ui import WebDriverWait\n",
    "from selenium.webdriver.chrome.service import Service\n",
    "from selenium.webdriver.common.by import By\n",
    "from selenium.webdriver.support import expected_conditions as EC\n",
    "\n",
    "import bs4\n",
    "from bs4 import BeautifulSoup\n",
    "import requests\n",
    "\n",
    "import time\n",
    "import import_ipynb\n",
    "from Redapy_query import query_final ## el código esta en el notebook llamado Redapy_query\n",
    "import redapy\n",
    "\n",
    "area = [\"Distrito\"]\n",
    "var1 = [\"Poblacio.C5P41\"]\n",
    "var2 = [\"Poblacio.C5P82\"]\n",
    "selection = [\"Provinci 1501\"]\n",
    "filter_a = \"Distrito\"\n",
    "\n",
    "query = query_final(tipo=\"crosstab\",variables1=var1,variables2=var2,area_break=area, selection=selection)\n",
    "#query = query_final(tipo=\"frequency\",variables1=var1,area_break=area)\n",
    "\n",
    "ser = Service(r'C:\\\\Users\\\\Dieguinchi\\\\Desktop\\\\chromedriver.exe')\n",
    "BASE_URL = \"https://censos2017.inei.gob.pe/bininei/RpWebStats.exe/CmdSet?BASE=CPV2017DI&ITEM=PROGRED&lang=esp\"\n",
    "\n",
    "def make_query(query, url=BASE_URL): # hace consulta \"query\" a redatam a través de procesador estadístico online\n",
    "    options = webdriver.ChromeOptions()#carga configuración del webdriver\n",
    "    driver = webdriver.Chrome(options=options, service=ser)# el driver debe estar en archivos del pc. puede descargarse de https://chromedriver.chromium.org/downloads\n",
    "    driver.get(url) # abre pagina web de redatam\n",
    "    query_input = driver.find_element(By.TAG_NAME,\"textarea\")# ubica linea de comandos\n",
    "#     query_input.send_keys(query.decode(\"utf-8\", \"ignore\"))\n",
    "    query_input.send_keys(query) # escribe consulta en línea de comandos\n",
    "    submit = driver.find_element(By.NAME,\"Submit\") #Busca botón \"Ejecutar\"\n",
    "    submit.click()# clickea en \"Ejecutar\" y ejecuta consulta\n",
    "    WebDriverWait(driver, 999999).until(lambda driver: len(driver.find_elements(By.XPATH,\"//*[contains(text(),'Descargar en formato Excel')]\")) == int(len(var1)))#espera 999 segundos o a que se muestren todas las tablas solicitadas, es decir, debe mostrar Descargar en formato Excel la misma cantidad de veces que la cantidad de variables de la solicitud \n",
    "    html = driver.find_element(By.ID,\"tab-output\")# obtiene unicamente la tabla de resultados\n",
    "    html = html.get_attribute('outerHTML')# obtiene el html de la tabla de resultados\n",
    "    driver.close() # cierra navegador\n",
    "    return html # devuelve html con tabla de resultados\n",
    "\n",
    "def make_dataframe(html): # crea dataframe con resultados\n",
    "    temp_table = pd.read_html(html) # lee todos los dataframes de la tabla de resultados\n",
    "    return temp_table # devuelve lista con dataframes\n",
    "\n",
    "# concatena dataframes de la tabla de resultados en un solo dataframe\n",
    "merged = pd.concat(make_dataframe(make_query(query)))\n",
    "\n",
    "# Excelwriter = pd.ExcelWriter(\"tablas_redatam2017_cruzada.xlsx\",engine=\"xlsxwriter\") #exporta en excel dataframe final\n",
    "# merged.to_excel(Excelwriter)\n",
    "# Excelwriter.save()"
   ]
  },
  {
   "cell_type": "code",
   "execution_count": null,
   "metadata": {},
   "outputs": [],
   "source": [
    "redapy.tabla_cruzada(merged, continuous=True, kind='descriptivos')[[\"Sí, afiliado al EsSalud\"]]"
   ]
  },
  {
   "cell_type": "code",
   "execution_count": 2,
   "metadata": {},
   "outputs": [
    {
     "name": "stdout",
     "output_type": "stream",
     "text": [
      "3.141.0\n"
     ]
    }
   ],
   "source": [
    "import selenium\n",
    "print(selenium.__version__)"
   ]
  },
  {
   "cell_type": "code",
   "execution_count": null,
   "metadata": {},
   "outputs": [],
   "source": []
  }
 ],
 "metadata": {
  "kernelspec": {
   "display_name": "Python 3 (ipykernel)",
   "language": "python",
   "name": "python3"
  },
  "language_info": {
   "codemirror_mode": {
    "name": "ipython",
    "version": 3
   },
   "file_extension": ".py",
   "mimetype": "text/x-python",
   "name": "python",
   "nbconvert_exporter": "python",
   "pygments_lexer": "ipython3",
   "version": "3.9.13"
  }
 },
 "nbformat": 4,
 "nbformat_minor": 4
}
