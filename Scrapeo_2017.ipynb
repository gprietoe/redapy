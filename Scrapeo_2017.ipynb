{
 "cells": [
  {
   "cell_type": "code",
   "execution_count": null,
   "metadata": {},
   "outputs": [],
   "source": [
    "\"\"\"\n",
    "MODIFICADO DE cpv2010arg.py en https://github.com/abenassi/pyredatam/blob/1480c481feb0698d54b59c3c17e52661a8c793df/pyredatam/cpv2010arg.py\n",
    "\"\"\"\n",
    "import os\n",
    "from selenium import webdriver\n",
    "from selenium.webdriver.support.ui import WebDriverWait\n",
    "from selenium.webdriver.common.by import By\n",
    "from selenium.webdriver.support import expected_conditions as EC\n",
    "from pyvirtualdisplay import Display\n",
    "import pandas as pd\n",
    "from bs4 import BeautifulSoup\n",
    "import requests\n",
    "from collections import OrderedDict\n",
    "import json\n",
    "import time\n",
    "\n",
    "\n",
    "BASE_URL = \"https://censos2017.inei.gob.pe/bininei/RpWebStats.exe/CmdSet?BASE=CPV2017DI&ITEM=PROGRED&lang=esp\"\n",
    "DRIVER_PATH = \"C:\\\\Users\\\\Dieguinchi\\\\Desktop\\\\chromedriver.exe\"\n",
    "\n",
    "def make_query(query, url=BASE_URL): # hace consulta \"query\" a redatam a través de procesador estadístico online\n",
    "    options = webdriver.ChromeOptions()#carga configuración del webdriver\n",
    "    driver = webdriver.Chrome(options=options, executable_path=DRIVER_PATH)# el driver debe estar en archivos del pc. puede descargarse de https://chromedriver.chromium.org/downloads\n",
    "    driver.get(url) # abre pagina web de redatam\n",
    "    query_input = driver.find_element_by_tag_name(\"textarea\")# ubica linea de comandos\n",
    "#     query_input.send_keys(query.decode(\"utf-8\", \"ignore\"))\n",
    "    query_input.send_keys(query) # escribe consulta en línea de comandos\n",
    "    submit = driver.find_element_by_name(\"Submit\") #Busca botón \"Ejecutar\"\n",
    "    submit.click()# clickea en \"Ejecutar\" y ejecuta consulta\n",
    "    WebDriverWait(driver, 999999).until(lambda driver: len(driver.find_elements_by_xpath(\"//*[contains(text(),'Descargar en formato Excel')]\")) == int(len(var_in)))#espera 999 segundos o a que se muestren todas las tablas solicitadas, es decir, debe mostrar Descargar en formato Excel la misma cantidad de veces que la cantidad de variables de la solicitud \n",
    "    html = driver.find_element_by_id(\"tab-output\")# obtiene unicamente la tabla de resultados\n",
    "    html = html.get_attribute('outerHTML')# obtiene el html de la tabla de resultados\n",
    "    driver.close() # cierra navegador\n",
    "    return html # devuelve html con tabla de resultados\n",
    "\n",
    "def make_dataframe(html): # crea dataframe con resultados\n",
    "    temp_table = pd.read_html(html) # lee todos los dataframes de la tabla de resultados\n",
    "    return temp_table # devuelve lista con dataframes\n",
    "\n",
    "merged = pd.concat(make_dataframe(make_query(query))) # concatena dataframes de la tabla de resultados en un solo dataframe\n",
    "Excelwriter = pd.ExcelWriter(\"tablas_redatam2017.xlsx\",engine=\"xlsxwriter\") #exporta en excel dataframe final\n",
    "merged.to_excel(Excelwriter)\n",
    "Excelwriter.save()"
   ]
  }
 ],
 "metadata": {
  "kernelspec": {
   "display_name": "Python 3",
   "language": "python",
   "name": "python3"
  },
  "language_info": {
   "codemirror_mode": {
    "name": "ipython",
    "version": 3
   },
   "file_extension": ".py",
   "mimetype": "text/x-python",
   "name": "python",
   "nbconvert_exporter": "python",
   "pygments_lexer": "ipython3",
   "version": "3.8.5"
  }
 },
 "nbformat": 4,
 "nbformat_minor": 4
}
